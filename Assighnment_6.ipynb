{
  "nbformat": 4,
  "nbformat_minor": 0,
  "metadata": {
    "colab": {
      "provenance": []
    },
    "kernelspec": {
      "name": "python3",
      "display_name": "Python 3"
    },
    "language_info": {
      "name": "python"
    }
  },
  "cells": [
    {
      "cell_type": "markdown",
      "source": [
        "# **Theory Questions of python Data toolkit**"
      ],
      "metadata": {
        "id": "edGbnPOUa-ps"
      }
    },
    {
      "cell_type": "markdown",
      "source": [
        "# Q.1  What is NumPy, and why is it widely used in Python?\n"
      ],
      "metadata": {
        "id": "iJLEocgmbIpG"
      }
    },
    {
      "cell_type": "markdown",
      "source": [
        "ans = Numpy is a python library that is used for mathematical and stastical computation in python for analysing the data .\n",
        "\n",
        "It is widely used in python for its simplicity and easy syntax but useful for mathematical calculation for analysing the enumerous data"
      ],
      "metadata": {
        "id": "k_Dej6TBbUjx"
      }
    },
    {
      "cell_type": "markdown",
      "source": [
        "# Q.2  How does broadcasting work in NumPy?"
      ],
      "metadata": {
        "id": "JWMH-Wkab1hc"
      }
    },
    {
      "cell_type": "markdown",
      "source": [
        "ans = In numpy broadcasting means if we will add and substract something from a matrix array it will add and substract from whole matrix and array\n",
        "\n",
        "example"
      ],
      "metadata": {
        "id": "s9K2UY8-evcw"
      }
    },
    {
      "cell_type": "code",
      "source": [
        "#example of broadcasting\n",
        "import numpy as np\n",
        "\n",
        "arr = np.array([1,2,3,4,5])\n",
        "arr = arr * 2\n",
        "print(arr)\n"
      ],
      "metadata": {
        "colab": {
          "base_uri": "https://localhost:8080/"
        },
        "id": "3lQFBMxNfNC5",
        "outputId": "cc394be2-1833-45f6-dd9a-c185dfc02599"
      },
      "execution_count": null,
      "outputs": [
        {
          "output_type": "stream",
          "name": "stdout",
          "text": [
            "[ 2  4  6  8 10]\n"
          ]
        }
      ]
    },
    {
      "cell_type": "markdown",
      "source": [
        "#  Q.3 What is a Pandas DataFrame?"
      ],
      "metadata": {
        "id": "Lwa-YKPbfmZL"
      }
    },
    {
      "cell_type": "markdown",
      "source": [
        "ans = Pandas is python library and It is used for manipulation of data and data cleaning process.It is analyze the data\n",
        "\n",
        " Pandas DataFrame is a collection of series . It is a place in which we can store tabular data . One most import thing is we can easily analyze data through DataFrame . We can modify and clean the data by DataFrame\n",
        "\n"
      ],
      "metadata": {
        "id": "vuBbrl2zfRln"
      }
    },
    {
      "cell_type": "markdown",
      "source": [
        "# Q.4 Explain the use of the groupby() method in Pandas?"
      ],
      "metadata": {
        "id": "700reECXg31o"
      }
    },
    {
      "cell_type": "markdown",
      "source": [
        "ans = Pandas is python library that is used for analysizing the data. And it is widely used for manipulation the data.\n",
        "\n",
        "Groupby() method is use when you want to group rows by certain column and then perform calculation."
      ],
      "metadata": {
        "id": "9_KFScswjJo_"
      }
    },
    {
      "cell_type": "markdown",
      "source": [
        "# Q.5  Why is Seaborn preferred for statistical visualizations?"
      ],
      "metadata": {
        "id": "nc0Y_C_8kDHG"
      }
    },
    {
      "cell_type": "markdown",
      "source": [
        "ans = Seaborn is a one of the python library that is used for creating multiple charts for visualizing the data . It visualize the statistical data easly by the hist charts , bar charts and mostly useable chart is Boxplot that use mean , median ,IQR and it identify the Outlier as well."
      ],
      "metadata": {
        "id": "J3NBD3rVkJXt"
      }
    },
    {
      "cell_type": "markdown",
      "source": [
        "# Q.6  What are the differences between NumPy arrays and Python lists?"
      ],
      "metadata": {
        "id": "oWENo6oFlJ9R"
      }
    },
    {
      "cell_type": "markdown",
      "source": [
        "ans = Numpy and python both are the python libraries ,numpy is used for mathematical and statistical calculation . pandas is mostly used for analysizing and manipulation of data.\n",
        "\n",
        "The basic difference between both libraries is :\n",
        "numpy array is multidimensional and store homogenous.\n",
        "pandas lists can store hetrogenous data"
      ],
      "metadata": {
        "id": "5rUufISxlRCZ"
      }
    },
    {
      "cell_type": "markdown",
      "source": [
        "# Q.7 What is a heatmap, and when should it be used?"
      ],
      "metadata": {
        "id": "0cv1ruZvp-FS"
      }
    },
    {
      "cell_type": "markdown",
      "source": [
        "ans = Heatmap is chart in which we can compare multiple values and find which column is less contributing into the DataFrame and then we can visualize easily.\n",
        "\n",
        "It should be used when we have multiple data to find the contribution of the data."
      ],
      "metadata": {
        "id": "tk9TD1sWqHZH"
      }
    },
    {
      "cell_type": "markdown",
      "source": [
        "# Q.8  What does the term “vectorized operation” mean in NumPy?"
      ],
      "metadata": {
        "id": "Q6GT9d7Nqrgp"
      }
    },
    {
      "cell_type": "markdown",
      "source": [
        "ans = Vectorized Operations in Numpy refer to the ability to perform operations to the ability to perform operations on entire arrays at once, without the need for explicit loops ."
      ],
      "metadata": {
        "id": "LbfKzU7rqzuo"
      }
    },
    {
      "cell_type": "markdown",
      "source": [
        "# Q.9 How does Matplotlib differ from Plotly?"
      ],
      "metadata": {
        "id": "FOMZl9yMrbUv"
      }
    },
    {
      "cell_type": "markdown",
      "source": [
        "ans = Matplotlib is visualization library that creates bar chart,pie chart,histogram and other charts for visualization\n",
        "\n",
        "plotly has more feature than matplotlib in plotly we can zoom in and zoom out the chart . we can download the charts and its syntax is little bit complex from the matplotlib library."
      ],
      "metadata": {
        "id": "1JVMVzhzriSu"
      }
    },
    {
      "cell_type": "markdown",
      "source": [
        "# Q.10 What is the significance of hierarchical indexing in Pandas?"
      ],
      "metadata": {
        "id": "2sIRWbRXsiQx"
      }
    },
    {
      "cell_type": "markdown",
      "source": [
        "ans = hierarchical indexing ,also known as multi-indexing , is a powerful feature in pandas that allows you to work with higher-dimensional data in a lower-dimensional data frame or series.\n",
        "\n",
        "significance of Hierarchical indexing :\n",
        "1. Handling Higher-dimensional data\n",
        "2.Improved data organization\n",
        "3.Enhance data analysis\n",
        "4.Simplified data manipulation"
      ],
      "metadata": {
        "id": "vJueqRSdtFSz"
      }
    },
    {
      "cell_type": "markdown",
      "source": [
        "# Q.11 What is the role of Seaborn’s pairplot() function?"
      ],
      "metadata": {
        "id": "eJ-Rt_3It8m-"
      }
    },
    {
      "cell_type": "markdown",
      "source": [
        "ans = Seaborn's pairplot() function is used for find the relationship between the data columns and it is used in data exploration.\n",
        "\n",
        "feature engineering it plays a crucial role"
      ],
      "metadata": {
        "id": "pefLzB8AuFIA"
      }
    },
    {
      "cell_type": "markdown",
      "source": [
        "# Q.12  What is the purpose of the describe() function in Pandas?\n"
      ],
      "metadata": {
        "id": "GJV9CdQQ4Ijd"
      }
    },
    {
      "cell_type": "markdown",
      "source": [
        "ans = describe()function in pandas gives the mean,median , standard diviation ,25% ,75% and 50% percitile value .It is called 5 level summary in statistics .descrive() function gives the information of all these terms that writtem above."
      ],
      "metadata": {
        "id": "Rgr_iO_O4OND"
      }
    },
    {
      "cell_type": "markdown",
      "source": [
        "# Q.13 Why is handling missing data important in Pandas?"
      ],
      "metadata": {
        "id": "p26-paiX4z6B"
      }
    },
    {
      "cell_type": "markdown",
      "source": [
        "ans = Handling missing data is very important in pandas. For analysing the data. missing values can create ambiguity in data ,with missing value we can not analysize the data in accurate manner. for handling missing values means we can replcae these empty space with mean and mode."
      ],
      "metadata": {
        "id": "ZIIbFRmv46lh"
      }
    },
    {
      "cell_type": "markdown",
      "source": [
        "# Q.14 What are the benefits of using Plotly for data visualization?"
      ],
      "metadata": {
        "id": "aFlMT3nS5iqh"
      }
    },
    {
      "cell_type": "markdown",
      "source": [
        "ans = Plotly is a python library for visualizing data for getting insights\n",
        "from the data. benefits of using plotly is attractive visual charts and plotly gives multiple features like. zoom in zoom out , download charts and other feature"
      ],
      "metadata": {
        "id": "zGmB3OYa5o08"
      }
    },
    {
      "cell_type": "markdown",
      "source": [
        "# Q.15 How does NumPy handle multidimensional arrays?"
      ],
      "metadata": {
        "id": "BbRQ9-j_6ZLf"
      }
    },
    {
      "cell_type": "markdown",
      "source": [
        "ans = Numpy is a python library that is used for statistical and computation of mathematics.\n",
        "\n",
        "Numpy has multidimensional arrays like one dimensional array , two dimensional array and three dimensional array but python only use one and two dimensional array\n",
        "\n",
        "in array there we can store only homogenous data so it is easy to handle multidimensional array"
      ],
      "metadata": {
        "id": "4f-vn-nN6gFq"
      }
    },
    {
      "cell_type": "markdown",
      "source": [
        "# Q.16 What is the role of Bokeh in data visualization?"
      ],
      "metadata": {
        "id": "oM1-Zskl7YWJ"
      }
    },
    {
      "cell_type": "markdown",
      "source": [
        "ans = Bokeh also a library of python for visualization .And the role of Bekeh in visualization for creating intractive visual.And gives features as plotly. Bokeh is not widly used in python but it has many features"
      ],
      "metadata": {
        "id": "vlV8W_dS7e8_"
      }
    },
    {
      "cell_type": "markdown",
      "source": [
        "# Q.17  Explain the difference between apply() and map() in Pandas?"
      ],
      "metadata": {
        "id": "2R3GYu7j8Q7L"
      }
    },
    {
      "cell_type": "markdown",
      "source": [
        "ans = apply() applies a function to each row or column of a DataFrame or Series.It is apply on various functions ,including custom and lambda function\n",
        "\n",
        "map() map function applies on element etritatively of a single list and series . map function applies on list of element one by one."
      ],
      "metadata": {
        "id": "usfDa4vs8rp5"
      }
    },
    {
      "cell_type": "markdown",
      "source": [
        "# Q.18  What are some advanced features of NumPy?\n",
        "\n"
      ],
      "metadata": {
        "id": "ptf8jV4Q9hV-"
      }
    },
    {
      "cell_type": "markdown",
      "source": [
        "ans = Numpy has several advanced features like :\n",
        "\n",
        "1. Broadcasting\n",
        "2.Vectorized Operation\n",
        "3.Linear Algebra Operations\n",
        "4.Random number generation\n",
        "5.Array Manipulation"
      ],
      "metadata": {
        "id": "42ij789T9peA"
      }
    },
    {
      "cell_type": "markdown",
      "source": [
        "# Q.19 How does Pandas simplify time series analysis?"
      ],
      "metadata": {
        "id": "5iZ38SnH-SrE"
      }
    },
    {
      "cell_type": "markdown",
      "source": [
        "ans = pandas simplifies time series analysis in several ways\n",
        "\n",
        "1. Efficient Data Structures\n",
        "2.Date and Time handling\n",
        "3.Time series Indexing\n",
        "4.Resampling and Frequency Conversion\n",
        "5.Time series plotting"
      ],
      "metadata": {
        "id": "7t4q1hB_-YpW"
      }
    },
    {
      "cell_type": "markdown",
      "source": [
        "# Q.20  What is the role of a pivot table in Pandas?"
      ],
      "metadata": {
        "id": "bLW82vs1_HSk"
      }
    },
    {
      "cell_type": "markdown",
      "source": [
        "ans = In pandas, a pivot table is a powerful data analysis tool that allows you to summarize and analyze large datasets by creating a customized table\n",
        "\n",
        "Role of Pivot table:\n",
        "1.Data summarization\n",
        "2.Data analysis\n",
        "3.Data transformation"
      ],
      "metadata": {
        "id": "mwJoXZvr_OTf"
      }
    },
    {
      "cell_type": "markdown",
      "source": [
        "# Q.21 Why is NumPy’s array slicing faster than Python’s list slicing"
      ],
      "metadata": {
        "id": "gVhyPEx9AB5l"
      }
    },
    {
      "cell_type": "markdown",
      "source": [
        "ans = Numpy's array slicing faster than python's list slicing because in numpy's array there we store the homegenous data but in list we store hetrogenous data\n",
        "\n",
        "in homogenous data we can easily find out the particular value by indexing\n",
        "but in list there are hetrogenous data that is little bit difficult to slice out because of hetrogenous data."
      ],
      "metadata": {
        "id": "HGqc2nmGBlS3"
      }
    },
    {
      "cell_type": "markdown",
      "source": [
        "# Q.22  What are some common use cases for Seaborn?"
      ],
      "metadata": {
        "id": "7aKVtT_EDmaw"
      }
    },
    {
      "cell_type": "markdown",
      "source": [
        "ans = some common use case of seaborn library of python are:\n",
        "1.Exploratory data analysis\n",
        "2.Visualizing Distribution\n",
        "3.Categorical data visualization\n",
        "4.Regression analysis\n",
        "5.Clustering and Heatmaps\n",
        "6.Time series Visualization"
      ],
      "metadata": {
        "id": "xb870dfhD4eq"
      }
    }
  ]
}